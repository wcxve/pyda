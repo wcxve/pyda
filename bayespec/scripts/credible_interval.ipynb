{
 "cells": [
  {
   "cell_type": "code",
   "execution_count": 56,
   "metadata": {
    "collapsed": true,
    "ExecuteTime": {
     "end_time": "2023-05-19T16:18:49.999857Z",
     "start_time": "2023-05-19T16:18:49.959780Z"
    }
   },
   "outputs": [],
   "source": [
    "import numpy as np\n",
    "\n",
    "from numba import njit\n",
    "from numpy import log, sqrt\n",
    "from scipy.optimize import root_scalar\n",
    "from scipy.stats import chi2\n",
    "\n",
    "@njit('float64(float64, float64, float64, float64, float64)')\n",
    "def wstat(rate_src, n_on, n_off, t_on, t_off):\n",
    "    mu_src = rate_src * t_on\n",
    "    a = t_on / t_off\n",
    "    v1 = a + 1.0      # a + 1\n",
    "    v2 = 1.0 + 1.0/a  # 1 + 1/a\n",
    "    v3 = 2.0 * v1     # 2*(a+1)\n",
    "    v4 = 4 * a * v1   # 4*a*(a+1)\n",
    "\n",
    "    on = n_on\n",
    "    off = n_off\n",
    "    s = mu_src\n",
    "\n",
    "    if on == 0.0:\n",
    "        stat = s + off*log(v1)\n",
    "    else:\n",
    "        if off == 0.0:\n",
    "            if s <= on / v2:\n",
    "                stat = -s/a + on*log(v2)\n",
    "            else:\n",
    "                stat = s + on*(log(on/s) - 1.0)\n",
    "        else:\n",
    "            c = a * (on + off) - v1 * s\n",
    "            d = sqrt(c*c + v4 * off * s)\n",
    "            b = (c + d) / v3\n",
    "            stat = s + v2 * b \\\n",
    "                    - on * (log((s + b)/on) + 1) \\\n",
    "                    - off * (log(b/a/off) + 1)\n",
    "    return stat\n",
    "\n",
    "def wstat_ci(n_on, n_off, t_on, t_off, cl=0.68269):\n",
    "    delta = chi2.ppf(cl, 1) / 2.0\n",
    "    rate_on = n_on/t_on\n",
    "    rate_off = n_off/t_off\n",
    "    if (s := rate_on - rate_off) < 0.0:\n",
    "        s = 0.0\n",
    "    stat_min = wstat(s, n_on, n_off, t_on, t_off)\n",
    "    f = lambda x: wstat(x, n_on, n_off, t_on, t_off) - (stat_min + delta)\n",
    "    if (lower := root_scalar(f, bracket=(-rate_off, s)).root) < 0.0:\n",
    "        lower = 0.0\n",
    "    upper = root_scalar(f, bracket=(s, max(rate_on, rate_off))).root\n",
    "    return s, (lower, upper)"
   ]
  },
  {
   "cell_type": "code",
   "execution_count": 90,
   "outputs": [
    {
     "data": {
      "text/plain": "<matplotlib.legend.Legend at 0x13920e6b0>"
     },
     "execution_count": 90,
     "metadata": {},
     "output_type": "execute_result"
    },
    {
     "data": {
      "text/plain": "<Figure size 640x480 with 1 Axes>",
      "image/png": "[encoded data removed]"
     },
     "metadata": {},
     "output_type": "display_data"
    }
   ],
   "source": [
    "# profile likelihood\n",
    "src = np.linspace(0,1e2,1001)\n",
    "stat = np.asarray([wstat(s, 3, 4, 1, 1) for s in src])\n",
    "import matplotlib.pyplot as plt\n",
    "plt.plot(src, stat)\n",
    "plt.axhline(stat.min()+0.5)\n",
    "plt.axvline(_:=src[stat.argmin():][np.abs(stat[stat.argmin():]-stat.min()-0.5).argmin()], label=f'{_:.2f}')\n",
    "# plt.axvline(_:=src[:stat.argmin()][np.abs(stat[:stat.argmin()]-stat.min()-0.5).argmin()], label=f'{_:.2f}')\n",
    "plt.legend()"
   ],
   "metadata": {
    "collapsed": false,
    "ExecuteTime": {
     "end_time": "2023-05-20T07:30:58.443225Z",
     "start_time": "2023-05-20T07:30:58.360257Z"
    }
   }
  },
  {
   "cell_type": "code",
   "execution_count": 47,
   "outputs": [
    {
     "data": {
      "text/plain": "(0.49999999999999967, 1.352771727047702, 1.920729410347062)"
     },
     "execution_count": 47,
     "metadata": {},
     "output_type": "execute_result"
    }
   ],
   "source": [
    "from scipy.stats import chi2, norm\n",
    "chi2.ppf(1-norm.sf(1)*2, 1)/2, chi2.ppf(0.9, 1)/2, chi2.ppf(0.95, 1)/2"
   ],
   "metadata": {
    "collapsed": false,
    "ExecuteTime": {
     "end_time": "2023-05-19T15:36:45.626392Z",
     "start_time": "2023-05-19T15:36:45.623078Z"
    }
   }
  },
  {
   "cell_type": "code",
   "execution_count": 88,
   "outputs": [
    {
     "data": {
      "text/plain": "1.0006418287624492"
     },
     "execution_count": 88,
     "metadata": {},
     "output_type": "execute_result"
    }
   ],
   "source": [],
   "metadata": {
    "collapsed": false,
    "ExecuteTime": {
     "end_time": "2023-05-20T07:23:16.750984Z",
     "start_time": "2023-05-20T07:23:16.750315Z"
    }
   }
  },
  {
   "cell_type": "code",
   "execution_count": null,
   "outputs": [],
   "source": [],
   "metadata": {
    "collapsed": false
   }
  }
 ],
 "metadata": {
  "kernelspec": {
   "display_name": "Python 3",
   "language": "python",
   "name": "python3"
  },
  "language_info": {
   "codemirror_mode": {
    "name": "ipython",
    "version": 2
   },
   "file_extension": ".py",
   "mimetype": "text/x-python",
   "name": "python",
   "nbconvert_exporter": "python",
   "pygments_lexer": "ipython2",
   "version": "2.7.6"
  }
 },
 "nbformat": 4,
 "nbformat_minor": 0
}
