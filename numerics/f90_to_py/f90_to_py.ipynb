{
 "metadata": {
  "name": "",
  "signature": "sha256:90919e3dbbc718db6f918c93028e5c73ef39ab77786f680c9724afc13a61051c"
 },
 "nbformat": 3,
 "nbformat_minor": 0,
 "worksheets": [
  {
   "cells": [
    {
     "cell_type": "heading",
     "level": 1,
     "metadata": {},
     "source": [
      "Semi-automatic Fortran 90 to Python conversion"
     ]
    },
    {
     "cell_type": "heading",
     "level": 3,
     "metadata": {},
     "source": [
      "Fortran 90 to Python conversion by string manipulations"
     ]
    },
    {
     "cell_type": "markdown",
     "metadata": {},
     "source": [
      "[Nikolai Shokhirev](http://www.numericalexpert.com/)"
     ]
    },
    {
     "cell_type": "markdown",
     "metadata": {},
     "source": [
      "Simple Fortran 90 to Python conversion by string manipulations:<br />\n",
      "1. Replacement of Fortran statements with corresponding Python statements\n",
      "2. Replacement of math functions\n",
      "3. Commenting out Fortan-specific statment (e.g. `integer`, `end do`)\n",
      "4. Conversion of do loops to for loops: `do j=1, M, 2 => for j in range(0, M, 2)`\n",
      "5. Covertion of array access from `( )` to `[ ]`\n",
      "6. Conversion of function headers (possibly multi-line)<br />\n",
      "\n",
      "The resulting file still require some manual cleanup and formatting."
     ]
    },
    {
     "cell_type": "markdown",
     "metadata": {},
     "source": [
      "List of substitution pairs for statements."
     ]
    },
    {
     "cell_type": "code",
     "collapsed": false,
     "input": [
      "map_list=[('!','#'),\n",
      "    ('\\t','  '),\n",
      "    ('(/','['),\n",
      "    ('/)',']'),\n",
      "    ('.d0','.0'),\n",
      "    ('d0','0'),\n",
      "    ('.eq.',' == '),\n",
      "    ('.ne.',' != '),\n",
      "    ('/=',' != '),\n",
      "    ('.lt.',' < '),\n",
      "    ('.gt.',' > '),\n",
      "    ('.le.',' <= '),\n",
      "    ('.ge.',' >= '),\n",
      "    ('then',':'),\n",
      "    ('else if','elif'),\n",
      "    ('else','else:'),\n",
      "    ('&','\\\\'),\n",
      "    ('.and.',' and '),\n",
      "    ('.or.',' or '),\n",
      "    ('.true.',' True '),\n",
      "    ('.false.',' False '),\n",
      "    ('end if','#end if'),\n",
      "    ('do while','while'),\n",
      "    ('end do',''),\n",
      "    ('end program','# end program'),\n",
      "    ('end function','# end function'),\n",
      "    ('end subroutine','# end subroutine'),\n",
      "    ('end','# end'),\n",
      "    ('program','def'),\n",
      "    ('function','def'),\n",
      "    ('subroutine','def'),\n",
      "    ('integer','#integer'),\n",
      "    ('real','#real'),\n",
      "    ('allocate','#allocate'),\n",
      "    ('pause','#pause'),\n",
      "    ]"
     ],
     "language": "python",
     "metadata": {},
     "outputs": [],
     "prompt_number": 1
    },
    {
     "cell_type": "markdown",
     "metadata": {},
     "source": [
      "List of substitution pairs for math functions (incomplete)."
     ]
    },
    {
     "cell_type": "code",
     "collapsed": false,
     "input": [
      "math_list=[\n",
      "    ('dabs','abs'),\n",
      "    ('dsqrt','math.sqrt'),\n",
      "    ('dlog','math.log'),\n",
      "    ('dexp','math.exp'),\n",
      "    ]"
     ],
     "language": "python",
     "metadata": {},
     "outputs": [],
     "prompt_number": 2
    },
    {
     "cell_type": "code",
     "collapsed": false,
     "input": [
      "def file2list(fname, include_eol=False):\n",
      "    ''' text file to list of string '''\n",
      "    with open(fname, encoding=\"utf8\") as f:\n",
      "        if include_eol:\n",
      "            content = f.readlines() # \\n is included\n",
      "        else:\n",
      "            content = f.read().splitlines() # \\n is not included\n",
      "        return content"
     ],
     "language": "python",
     "metadata": {},
     "outputs": [],
     "prompt_number": 3
    },
    {
     "cell_type": "code",
     "collapsed": false,
     "input": [
      "def ireplace(old, new, text):\n",
      "    ''' Case Insensitive Replace excluding comments\n",
      "    based on\n",
      "    http://stackoverflow.com/questions/919056/python-case-insensitive-replace\n",
      "    ''' \n",
      "    idx = 0\n",
      "    lim = text.find('#')\n",
      "    if lim < 0:\n",
      "        lim = len(text)\n",
      "    while idx < lim:\n",
      "#     while idx < len(text):\n",
      "        index_l = text.lower().find(old.lower(), idx)\n",
      "        if index_l == -1:\n",
      "            return text\n",
      "        text = text[:index_l] + new + text[index_l + len(old):]\n",
      "        idx = index_l + len(old)\n",
      "    return text"
     ],
     "language": "python",
     "metadata": {},
     "outputs": [],
     "prompt_number": 4
    },
    {
     "cell_type": "code",
     "collapsed": false,
     "input": [
      "def replace_statements(content,map_list):\n",
      "    ''' replaice all statements in map_list for all lines '''\n",
      "    result = list(content) # make a copy\n",
      "    for p in map_list:\n",
      "#         result = [l.replace(p[0], p[1]) for l in result] # Case-sensitive\n",
      "        result = [ireplace(p[0], p[1], l) for l in result]\n",
      "    return result"
     ],
     "language": "python",
     "metadata": {},
     "outputs": [],
     "prompt_number": 5
    },
    {
     "cell_type": "code",
     "collapsed": false,
     "input": [
      "def replace_math_functions(content,math_list):\n",
      "    ''' replaice all math functions in content '''\n",
      "    for p in math_list:\n",
      "        content = [ireplace(p[0], p[1], l) for l in content]\n",
      "    return content"
     ],
     "language": "python",
     "metadata": {},
     "outputs": [],
     "prompt_number": 6
    },
    {
     "cell_type": "code",
     "collapsed": false,
     "input": [
      "def process_do(line):\n",
      "    ''' replaice Fortran do to Python for:\n",
      "        do i=1, N => for i in range(0, N):\n",
      "        do j=1, M, 2 => for j in range(0, M, 2):\n",
      "        do iq=ip+1, N => for iq in range(ip+1, N):\n",
      "    '''\n",
      "    if line.startswith('#'):\n",
      "        return line\n",
      "    if line.strip().startswith( 'do' ):\n",
      "        if '#' in line:\n",
      "            do_var_lims,comment = line.split('#')\n",
      "            comment = ' #'+''.join(comment)\n",
      "        else:\n",
      "            do_var_lims,comment = line, ''\n",
      "        do_var,lims = do_var_lims.split('=')\n",
      "        for_var = do_var.replace('do','for') + ' in range('\n",
      "        lims=lims.split(',')\n",
      "        lims=[i.strip() for i in lims]\n",
      "        if str(lims[0])=='1':     # heuristic correction for 0-based arrays    \n",
      "            lims[0]='0'           # warning: this can be unnecessery sometimes.\n",
      "        result = for_var + ', '.join(lims) + '):'\n",
      "        if comment:\n",
      "            result += comment\n",
      "        return result\n",
      "    else:\n",
      "        return line"
     ],
     "language": "python",
     "metadata": {},
     "outputs": [],
     "prompt_number": 7
    },
    {
     "cell_type": "code",
     "collapsed": false,
     "input": [
      "def replace_all_do(content):\n",
      "    ''' replaice do statements for all lines '''\n",
      "    result = [process_do(l) for l in content]\n",
      "    return result"
     ],
     "language": "python",
     "metadata": {},
     "outputs": [],
     "prompt_number": 8
    },
    {
     "cell_type": "code",
     "collapsed": false,
     "input": [
      "def adjust_array(line, arr):\n",
      "    ''' Conversion of Fortran array access to Python:\n",
      "        line = 'A(i,j) = A(m,A(k,l))'\n",
      "        arr = 'A'\n",
      "        result = 'A[i,j] = A[m,A[k,l]]'\n",
      "    '''\n",
      "    if line.startswith('#'):\n",
      "        return line\n",
      "    i = line.find(arr+'(')\n",
      "    while i >= 0:\n",
      "        j = line.find('(',i)\n",
      "        line = line[:j] + '[' + line[j+1:]\n",
      "        c = 1\n",
      "        for k in range(j+1,len(line)):\n",
      "            if line[k] == '(':\n",
      "                c += 1\n",
      "            if line[k] == ')':\n",
      "                c -= 1\n",
      "            if c == 0:\n",
      "                line = line[:k] + ']' + line[k+1:]\n",
      "#                 i = line.find(arr+'(', k+1) # does not process nested arrays\n",
      "                i = line.find(arr+'(')\n",
      "                break\n",
      "    return line"
     ],
     "language": "python",
     "metadata": {},
     "outputs": [],
     "prompt_number": 9
    },
    {
     "cell_type": "code",
     "collapsed": false,
     "input": [
      "def adjust_arrays(line):\n",
      "    ''' adjust all arrays in a line '''\n",
      "    for a in arrays:\n",
      "        line = adjust_array(line, a)\n",
      "    return line"
     ],
     "language": "python",
     "metadata": {},
     "outputs": [],
     "prompt_number": 10
    },
    {
     "cell_type": "code",
     "collapsed": false,
     "input": [
      "def adjust_all_arrays(content):\n",
      "    ''' adjust all arrays in all lines '''\n",
      "    result = [adjust_arrays(l) for l in content]\n",
      "    return result"
     ],
     "language": "python",
     "metadata": {},
     "outputs": [],
     "prompt_number": 11
    },
    {
     "cell_type": "code",
     "collapsed": false,
     "input": [
      "def adjust_functions(content):\n",
      "    \"\"\" Adds ':' after ')' \"\"\"    \n",
      "    for n,line in enumerate(content):\n",
      "        count = 0\n",
      "        if line.strip().startswith('def'):\n",
      "            i = line.find('(')\n",
      "            if i >= 0:\n",
      "                count = 1\n",
      "                for k in range(i,len(line)):\n",
      "                    #print(k, line[k])\n",
      "                    if line[k] == '#':\n",
      "                        break\n",
      "                    if line[k] == ')':\n",
      "                        count = 0\n",
      "                        content[n] = line[:k+1] + ':' + line[k+1:]\n",
      "                        break\n",
      "            else:\n",
      "                count = 0\n",
      "                i = line.find('#') \n",
      "                if i >= 0:\n",
      "                    content[n] =  line[:i] + ':' + line[i:]\n",
      "                else:\n",
      "                    content[n] =  line + ':'\n",
      "        else:\n",
      "            if count > 0:\n",
      "                i = 0\n",
      "                for k in range(i,len(line)):\n",
      "                    if line[k] == '#':\n",
      "                        break\n",
      "                    if line[k] == ')':\n",
      "                        count = 0\n",
      "                        content[n] = line[:k+1] + ':' + line[k+1:]\n",
      "                        break\n",
      "    return content"
     ],
     "language": "python",
     "metadata": {},
     "outputs": [],
     "prompt_number": 12
    },
    {
     "cell_type": "code",
     "collapsed": false,
     "input": [
      "def list2file(fname, output):\n",
      "    ''' list of string to text file '''\n",
      "    with open(fname,'w', encoding=\"utf8\") as out:\n",
      "        for line in output:\n",
      "            out.write(line+'\\n')"
     ],
     "language": "python",
     "metadata": {},
     "outputs": [],
     "prompt_number": 13
    },
    {
     "cell_type": "code",
     "collapsed": false,
     "input": [
      "def f90_to_py(content,map_list,math_list,arrays):\n",
      "    ''' Fortran 90 to Python conversion \n",
      "        by string manipulations\n",
      "        content - input list of f90 file content strings\n",
      "        map_list - list of substitution pairs, \n",
      "                   e.g. ('.lt.',' < '),('DABS','abs'),\n",
      "        output - list of python file content strings\n",
      "    '''\n",
      "    output = replace_statements(content,map_list)\n",
      "    output = replace_math_functions(output,math_list)\n",
      "    output = replace_all_do(output)\n",
      "    output = adjust_all_arrays(output)\n",
      "    output = adjust_functions(output)\n",
      "    return output"
     ],
     "language": "python",
     "metadata": {},
     "outputs": [],
     "prompt_number": 14
    },
    {
     "cell_type": "code",
     "collapsed": false,
     "input": [
      "fname='ujacobi.f90'"
     ],
     "language": "python",
     "metadata": {},
     "outputs": [],
     "prompt_number": 15
    },
    {
     "cell_type": "code",
     "collapsed": false,
     "input": [
      "foutname='ujacobi.py'"
     ],
     "language": "python",
     "metadata": {},
     "outputs": [],
     "prompt_number": 16
    },
    {
     "cell_type": "markdown",
     "metadata": {},
     "source": [
      "List of arrays"
     ]
    },
    {
     "cell_type": "code",
     "collapsed": false,
     "input": [
      "arrays=['A','D','V','B','Z']"
     ],
     "language": "python",
     "metadata": {},
     "outputs": [],
     "prompt_number": 17
    },
    {
     "cell_type": "markdown",
     "metadata": {},
     "source": [
      "Read Fortran file"
     ]
    },
    {
     "cell_type": "code",
     "collapsed": false,
     "input": [
      "content = file2list(fname)"
     ],
     "language": "python",
     "metadata": {},
     "outputs": [],
     "prompt_number": 18
    },
    {
     "cell_type": "markdown",
     "metadata": {},
     "source": [
      "Generaqte conversion"
     ]
    },
    {
     "cell_type": "code",
     "collapsed": false,
     "input": [
      "output = f90_to_py(content,map_list,math_list,arrays)"
     ],
     "language": "python",
     "metadata": {},
     "outputs": [],
     "prompt_number": 19
    },
    {
     "cell_type": "markdown",
     "metadata": {},
     "source": [
      "Write Python file"
     ]
    },
    {
     "cell_type": "code",
     "collapsed": false,
     "input": [
      "list2file(foutname, output)"
     ],
     "language": "python",
     "metadata": {},
     "outputs": [],
     "prompt_number": 20
    }
   ],
   "metadata": {}
  }
 ]
}